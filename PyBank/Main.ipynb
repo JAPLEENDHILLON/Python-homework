{
 "cells": [
  {
   "cell_type": "code",
   "execution_count": 373,
   "metadata": {},
   "outputs": [
    {
     "name": "stdout",
     "output_type": "stream",
     "text": [
      " Financial Analysis \n",
      "--------------------- \n",
      " Total Months: 86 \n",
      " Total: $38382578 \n",
      " Average change: $-2315.12 \n",
      " Greatest Increase in Profits:  Feb-2012 $(1926159)\n",
      " Greatest Decrease in Profits:  Sep-2013 $(-2196167)\n"
     ]
    }
   ],
   "source": [
    "import pandas as pd\n",
    "from pathlib import Path\n",
    "\n",
    "csvpath=Path(\"PyBank/02-Python_Unit 2 Homework_PyBank_Resources_budget_data.csv\")\n",
    "df=pd.read_csv(csvpath)\n",
    "df.head()\n",
    "\n",
    "#Total Number Of Months\n",
    "Total_months= df['Date'].count()\n",
    "\n",
    "#Net Profit and Losses\n",
    "Total_profit_loss=df['Profit/Losses'].sum()\n",
    "\n",
    "#The average of the changes in Profit/Losses over the entire period.\n",
    "\n",
    "\n",
    "df[\"daily_change\"]= df['Profit/Losses'].diff()\n",
    "Average= round(df[\"daily_change\"].mean(),2)\n",
    "\n",
    "#The greatest increase in profits (date and amount) over the entire period. \n",
    "Greatest_increase=int(df[\"daily_change\"].max())\n",
    "Date1=df.loc[df[\"daily_change\"]==Greatest]\n",
    "Greatest_profit_date= Date1[\"Date\"].to_string(index=False) \n",
    "\n",
    "#The greatest decrease in losses (date and amount) over the entire period\n",
    "Greatest_decrease=int(df[\"daily_change\"].min())\n",
    "Date2=df.loc[df[\"daily_change\"]==Greatest_decrease]\n",
    "Greatest_loss_date= Date2[\"Date\"].to_string(index=False)\n",
    "\n",
    "\n",
    "#to_string command was used to have string values in the output\n",
    "\n",
    "\n",
    "\n",
    "print(f\" Financial Analysis \")\n",
    "print(f\"--------------------- \")\n",
    "print(f\" Total Months: {Total_months} \")\n",
    "print(f\" Total: ${Total_profit_loss} \")\n",
    "print(f\" Average change: ${Average} \")\n",
    "print(f\" Greatest Increase in Profits: {Greatest_profit_date} (${Greatest_increase})\" )\n",
    "print(f\" Greatest Decrease in Profits: {Greatest_loss_date} (${Greatest_decrease})\")\n"
   ]
  },
  {
   "cell_type": "code",
   "execution_count": null,
   "metadata": {},
   "outputs": [],
   "source": []
  },
  {
   "cell_type": "code",
   "execution_count": null,
   "metadata": {},
   "outputs": [],
   "source": []
  },
  {
   "cell_type": "code",
   "execution_count": null,
   "metadata": {},
   "outputs": [],
   "source": []
  }
 ],
 "metadata": {
  "kernelspec": {
   "display_name": "Python 3",
   "language": "python",
   "name": "python3"
  },
  "language_info": {
   "codemirror_mode": {
    "name": "ipython",
    "version": 3
   },
   "file_extension": ".py",
   "mimetype": "text/x-python",
   "name": "python",
   "nbconvert_exporter": "python",
   "pygments_lexer": "ipython3",
   "version": "3.8.5"
  }
 },
 "nbformat": 4,
 "nbformat_minor": 4
}
