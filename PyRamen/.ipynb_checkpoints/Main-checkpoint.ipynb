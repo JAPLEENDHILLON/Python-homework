{
 "cells": [
  {
   "cell_type": "code",
   "execution_count": 61,
   "metadata": {},
   "outputs": [
    {
     "name": "stdout",
     "output_type": "stream",
     "text": [
      "{'spicy miso ramen': {'01-Count': 9238, '02-Revenue': 110856, '03-cogs': 46190, '04-profit': 64666}, 'tori paitan ramen': {'01-Count': 9156, '02-Revenue': 119028, '03-cogs': 54936, '04-profit': 64092}, 'truffle butter ramen': {'01-Count': 8982, '02-Revenue': 125748, '03-cogs': 62874, '04-profit': 62874}, 'tonkotsu ramen': {'01-Count': 9288, '02-Revenue': 120744, '03-cogs': 55728, '04-profit': 65016}, 'vegetarian spicy miso': {'01-Count': 9216, '02-Revenue': 110592, '03-cogs': 46080, '04-profit': 64512}, 'shio ramen': {'01-Count': 9180, '02-Revenue': 100980, '03-cogs': 45900, '04-profit': 55080}, 'miso crab ramen': {'01-Count': 8890, '02-Revenue': 106680, '03-cogs': 53340, '04-profit': 53340}, 'nagomi shoyu': {'01-Count': 9132, '02-Revenue': 100452, '03-cogs': 45660, '04-profit': 54792}, 'soft-shell miso crab ramen': {'01-Count': 9130, '02-Revenue': 127820, '03-cogs': 63910, '04-profit': 63910}, 'burnt garlic tonkotsu ramen': {'01-Count': 9070, '02-Revenue': 126980, '03-cogs': 54420, '04-profit': 72560}, 'vegetarian curry + king trumpet mushroom ramen': {'01-Count': 8824, '02-Revenue': 114712, '03-cogs': 61768, '04-profit': 52944}}\n"
     ]
    }
   ],
   "source": [
    "import pandas as pd\n",
    "from pathlib import Path\n",
    "csvpath1=Path(\"02-Python_Unit 2 Homework_PyRamen_Resources_menu_data.csv\")\n",
    "df1=pd.read_csv(csvpath1)\n",
    "\n",
    "csvpath2=Path(\"02-Python_Unit 2 Homework_PyRamen_Resources_sales_data.csv\")\n",
    "df2=pd.read_csv(csvpath2)\n",
    "\n",
    "report={} \n",
    "\n",
    "for i in df2[\"Menu_Item\"]:\n",
    "    if i not in report:\n",
    "        df2.loc[df2[\"Menu_Item\"]==i]\n",
    "        Count=int(df2.loc[df2[\"Menu_Item\"]==i][\"Quantity\"].sum())\n",
    "        price=int(df1.loc[df1['item']==i]['price'])\n",
    "        cost=int(df1.loc[df1[\"item\"]==i][\"cost\"])\n",
    "        Revenue=(Count*price)\n",
    "        cogs=(Count*cost)\n",
    "        profit=((price-cost)*Count)\n",
    "        report[i]={\"01-Count\":Count,\"02-Revenue\":Revenue,\"03-cogs\":cogs,\"04-profit\":profit}\n",
    "        \n",
    "\n",
    "print(report)\n",
    "\n",
    "\n",
    "\n"
   ]
  },
  {
   "cell_type": "code",
   "execution_count": null,
   "metadata": {},
   "outputs": [],
   "source": [
    "#Output Sample (That is how the FOR loop will be working)\n",
    "'''spicy=df2.loc[df2[\"Menu_Item\"]=='spicy miso ramen']\n",
    "Count=spicy[\"Quantity\"].sum()\n",
    "price=df1.loc[df1['item']=='spicy miso ramen']['price']\n",
    "cost=df1.loc[df1[\"item\"]==\"spicy miso ramen\"][\"cost\"]\n",
    "Revenue=Count*price\n",
    "cogs=Count*cost\n",
    "profit=(price-cost)*Count\n",
    "\n",
    "spicy1=df2.loc[df2[\"Menu_Item\"]=='tori paitan ramen']\n",
    "Count1=spicy1[\"Quantity\"].sum()\n",
    "price1=df1.loc[df1['item']=='tori paitan ramen']['price']\n",
    "cost1=df1.loc[df1[\"item\"]==\"tori paitan ramen\"][\"cost\"]\n",
    "Revenue1=Count1*price1\n",
    "cogs1=Count1*cost1\n",
    "profit1=(price1-cost1)*Count1'''"
   ]
  },
  {
   "cell_type": "code",
   "execution_count": null,
   "metadata": {},
   "outputs": [],
   "source": []
  }
 ],
 "metadata": {
  "kernelspec": {
   "display_name": "Python 3",
   "language": "python",
   "name": "python3"
  },
  "language_info": {
   "codemirror_mode": {
    "name": "ipython",
    "version": 3
   },
   "file_extension": ".py",
   "mimetype": "text/x-python",
   "name": "python",
   "nbconvert_exporter": "python",
   "pygments_lexer": "ipython3",
   "version": "3.8.5"
  }
 },
 "nbformat": 4,
 "nbformat_minor": 4
}
