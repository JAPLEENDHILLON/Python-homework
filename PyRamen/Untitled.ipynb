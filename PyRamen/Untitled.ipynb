{
 "cells": [
  {
   "cell_type": "code",
   "execution_count": null,
   "metadata": {},
   "outputs": [],
   "source": [
    "import pandas as pd\n",
    "from pathlib import Path\n",
    "csvpath1=Path(\"02-Python_Unit 2 Homework_PyRamen_Resources_menu_data.csv\")\n",
    "df1=pd.read_csv(csvpath1)\n",
    "\n",
    "csvpath2=Path(\"02-Python_Unit 2 Homework_PyRamen_Resources_sales_data.csv\")\n",
    "df2=pd.read_csv(csvpath2)\n",
    "\n",
    "report={\"01-count\":0,\n",
    "        \"02-revenue\":0,\n",
    "        \"03-cogs\":0,\n",
    "        \"04-profit\":0} \n",
    "\n",
    "Quantity=df2[\"Quantity\"]\n",
    "Menu_Item=df2[\"Menu_Item\"]\n",
    "\n",
    "Menu_Item.head()"
   ]
  },
  {
   "cell_type": "code",
   "execution_count": 54,
   "metadata": {},
   "outputs": [
    {
     "data": {
      "text/plain": [
       "'import csv\\nimport pandas as pd\\nmenu1=[]\\nreport={\"01-count\":0,\\n        \"02-revenue\":0,\\n        \"03-cogs\":0,\\n        \"04-profit\":0} \\nsales=[]\\n\\nwith open(\"02-Python_Unit 2 Homework_PyRamen_Resources_menu_data.csv\", \\'r\\') as file1:\\n    csvreader1 = csv.reader(file1)\\n    next(csvreader1)\\n    for row1 in csvreader1:\\n        menu.append(row1)   \\n\\n\\nwith open(\"02-Python_Unit 2 Homework_PyRamen_Resources_sales_data.csv\", \\'r\\') as file2:\\n    csvreader2 = csv.reader(file2)\\n    for row2 in csvreader2:\\n        sales.append(row2)\\n        \\nfor i in sales:\\n    for j in i:'"
      ]
     },
     "execution_count": 54,
     "metadata": {},
     "output_type": "execute_result"
    }
   ],
   "source": [
    "'''import csv\n",
    "import pandas as pd\n",
    "menu1=[]\n",
    "report={\"01-count\":0,\n",
    "        \"02-revenue\":0,\n",
    "        \"03-cogs\":0,\n",
    "        \"04-profit\":0} \n",
    "sales=[]\n",
    "\n",
    "with open(\"02-Python_Unit 2 Homework_PyRamen_Resources_menu_data.csv\", 'r') as file1:\n",
    "    csvreader1 = csv.reader(file1)\n",
    "    next(csvreader1)\n",
    "    for row1 in csvreader1:\n",
    "        menu.append(row1)   \n",
    "\n",
    "\n",
    "with open(\"02-Python_Unit 2 Homework_PyRamen_Resources_sales_data.csv\", 'r') as file2:\n",
    "    csvreader2 = csv.reader(file2)\n",
    "    for row2 in csvreader2:\n",
    "        sales.append(row2)\n",
    "        \n",
    "for i in sales:\n",
    "    for j in i:'''      \n",
    "        \n",
    "\n",
    "    \n",
    "        \n",
    "\n",
    " \n",
    "\n",
    " \n",
    "        \n"
   ]
  },
  {
   "cell_type": "code",
   "execution_count": null,
   "metadata": {},
   "outputs": [],
   "source": []
  },
  {
   "cell_type": "code",
   "execution_count": null,
   "metadata": {},
   "outputs": [],
   "source": []
  },
  {
   "cell_type": "code",
   "execution_count": null,
   "metadata": {},
   "outputs": [],
   "source": [
    "\n",
    "for i in df2[\"Menu_Item\"]:\n",
    "    df2.loc[df2[\"Menu_Item\"]==i]\n",
    "    Count=df2.loc[df2[\"Menu_Item\"]==i][\"Quantity\"].sum()\n",
    "    price=df1.loc[df1['item']==i]['price']\n",
    "    cost=df1.loc[df1[\"item\"]==i][\"cost\"]\n",
    "    Revenue=Count*price\n",
    "    cogs=Count*cost\n",
    "    profit=(price-cost)*Count\n",
    "        \n",
    "    print(profit)\n",
    "\n",
    "\n",
    "\n",
    "\n",
    "\n",
    "\n",
    "\n",
    "    \n",
    "        \n",
    "    "
   ]
  },
  {
   "cell_type": "code",
   "execution_count": null,
   "metadata": {},
   "outputs": [],
   "source": [
    "df1.head()"
   ]
  },
  {
   "cell_type": "code",
   "execution_count": null,
   "metadata": {},
   "outputs": [],
   "source": [
    "spicy=df2.loc[df2[\"Menu_Item\"]=='spicy miso ramen']\n",
    "Count=spicy[\"Quantity\"].sum()\n",
    "price=df1.loc[df1['item']=='spicy miso ramen']['price']\n",
    "cost=df1.loc[df1[\"item\"]==\"spicy miso ramen\"][\"cost\"]\n",
    "Revenue=Count*price\n",
    "cogs=Count*cost\n",
    "profit=(price-cost)*Count"
   ]
  },
  {
   "cell_type": "code",
   "execution_count": 74,
   "metadata": {},
   "outputs": [
    {
     "data": {
      "text/plain": [
       "20    64092.0\n",
       "dtype: float64"
      ]
     },
     "execution_count": 74,
     "metadata": {},
     "output_type": "execute_result"
    }
   ],
   "source": [
    "spicy1=df2.loc[df2[\"Menu_Item\"]=='tori paitan ramen']\n",
    "Count1=spicy1[\"Quantity\"].sum()\n",
    "price1=df1.loc[df1['item']=='tori paitan ramen']['price']\n",
    "cost1=df1.loc[df1[\"item\"]==\"tori paitan ramen\"][\"cost\"]\n",
    "Revenue1=Count1*price1\n",
    "cogs1=Count1*cost1\n",
    "profit1=(price1-cost1)*Count1\n",
    "\n",
    "profit1"
   ]
  },
  {
   "cell_type": "code",
   "execution_count": null,
   "metadata": {},
   "outputs": [],
   "source": [
    "'''for key in df2[\"Menu_Item\"]:\n",
    "    if key not in report:\n",
    "        report[]'''"
   ]
  }
 ],
 "metadata": {
  "kernelspec": {
   "display_name": "Python 3",
   "language": "python",
   "name": "python3"
  },
  "language_info": {
   "codemirror_mode": {
    "name": "ipython",
    "version": 3
   },
   "file_extension": ".py",
   "mimetype": "text/x-python",
   "name": "python",
   "nbconvert_exporter": "python",
   "pygments_lexer": "ipython3",
   "version": "3.8.5"
  }
 },
 "nbformat": 4,
 "nbformat_minor": 4
}
